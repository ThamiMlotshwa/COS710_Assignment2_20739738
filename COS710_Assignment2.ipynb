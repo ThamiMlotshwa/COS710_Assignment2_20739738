{
  "nbformat": 4,
  "nbformat_minor": 0,
  "metadata": {
    "colab": {
      "name": "COS710_Assignment2.ipynb",
      "provenance": []
    },
    "kernelspec": {
      "name": "python3",
      "display_name": "Python 3"
    }
  },
  "cells": [
    {
      "cell_type": "markdown",
      "metadata": {
        "id": "wy8L07a5TDLd",
        "colab_type": "text"
      },
      "source": [
        "# COS 710 - Artificial Intelligence I\n",
        "## Assignment 2: Classifiers"
      ]
    },
    {
      "cell_type": "code",
      "metadata": {
        "id": "KvK3OJ4zxdXV",
        "colab_type": "code",
        "colab": {
          "base_uri": "https://localhost:8080/",
          "height": 574
        },
        "outputId": "f6fbe727-6f4a-46d4-b83a-b4bc831448cf"
      },
      "source": [
        "# install Anaconda3\n",
        "!wget -qO ac.sh https://repo.anaconda.com/archive/Anaconda3-2020.07-Linux-x86_64.sh \n",
        "!bash ./ac.sh -b\n",
        "\n",
        "# a fake google.colab library\n",
        "!ln -s /usr/local/lib/python3.6/dist-packages/google \\\n",
        "       /root/anaconda3/lib/python3.8/site-packages/google\n",
        "\n",
        "# start jupyterlab, which now has Python3 = 3.8\n",
        "!nohup /root/anaconda3/bin/jupyter-lab --ip=0.0.0.0&\n",
        "\n",
        "# access through ngrok, click the link\n",
        "!pip install pyngrok -q\n",
        "from pyngrok import ngrok\n",
        "print(ngrok.connect(8888))"
      ],
      "execution_count": null,
      "outputs": [
        {
          "output_type": "stream",
          "text": [
            "ERROR: File or directory already exists: '/root/anaconda3'\n",
            "If you want to update an existing installation, use the -u option.\n",
            "nohup: appending output to 'nohup.out'\n"
          ],
          "name": "stdout"
        },
        {
          "output_type": "stream",
          "text": [
            "t=2020-09-28T12:54:48+0000 lvl=warn msg=\"failed to start tunnel\" pg=/api/tunnels id=7cff9d603a709589 err=\"Your account may not run more than 2 tunnels over a single ngrok client session.\\nThe tunnels already running on this session are:\\n[https://8005cc85d87f.ngrok.io http://8005cc85d87f.ngrok.io]\\n\\r\\n\\r\\nERR_NGROK_324\\r\\n\"\n",
            "\n"
          ],
          "name": "stderr"
        },
        {
          "output_type": "error",
          "ename": "PyngrokNgrokHTTPError",
          "evalue": "ignored",
          "traceback": [
            "\u001b[0;31m---------------------------------------------------------------------------\u001b[0m",
            "\u001b[0;31mHTTPError\u001b[0m                                 Traceback (most recent call last)",
            "\u001b[0;32m/usr/local/lib/python3.6/dist-packages/pyngrok/ngrok.py\u001b[0m in \u001b[0;36mapi_request\u001b[0;34m(url, method, data, params, timeout)\u001b[0m\n\u001b[1;32m    301\u001b[0m     \u001b[0;32mtry\u001b[0m\u001b[0;34m:\u001b[0m\u001b[0;34m\u001b[0m\u001b[0;34m\u001b[0m\u001b[0m\n\u001b[0;32m--> 302\u001b[0;31m         \u001b[0mresponse\u001b[0m \u001b[0;34m=\u001b[0m \u001b[0murlopen\u001b[0m\u001b[0;34m(\u001b[0m\u001b[0mrequest\u001b[0m\u001b[0;34m,\u001b[0m \u001b[0mdata\u001b[0m\u001b[0;34m,\u001b[0m \u001b[0mtimeout\u001b[0m\u001b[0;34m)\u001b[0m\u001b[0;34m\u001b[0m\u001b[0;34m\u001b[0m\u001b[0m\n\u001b[0m\u001b[1;32m    303\u001b[0m         \u001b[0mresponse_data\u001b[0m \u001b[0;34m=\u001b[0m \u001b[0mresponse\u001b[0m\u001b[0;34m.\u001b[0m\u001b[0mread\u001b[0m\u001b[0;34m(\u001b[0m\u001b[0;34m)\u001b[0m\u001b[0;34m.\u001b[0m\u001b[0mdecode\u001b[0m\u001b[0;34m(\u001b[0m\u001b[0;34m\"utf-8\"\u001b[0m\u001b[0;34m)\u001b[0m\u001b[0;34m\u001b[0m\u001b[0;34m\u001b[0m\u001b[0m\n",
            "\u001b[0;32m/usr/lib/python3.6/urllib/request.py\u001b[0m in \u001b[0;36murlopen\u001b[0;34m(url, data, timeout, cafile, capath, cadefault, context)\u001b[0m\n\u001b[1;32m    222\u001b[0m         \u001b[0mopener\u001b[0m \u001b[0;34m=\u001b[0m \u001b[0m_opener\u001b[0m\u001b[0;34m\u001b[0m\u001b[0;34m\u001b[0m\u001b[0m\n\u001b[0;32m--> 223\u001b[0;31m     \u001b[0;32mreturn\u001b[0m \u001b[0mopener\u001b[0m\u001b[0;34m.\u001b[0m\u001b[0mopen\u001b[0m\u001b[0;34m(\u001b[0m\u001b[0murl\u001b[0m\u001b[0;34m,\u001b[0m \u001b[0mdata\u001b[0m\u001b[0;34m,\u001b[0m \u001b[0mtimeout\u001b[0m\u001b[0;34m)\u001b[0m\u001b[0;34m\u001b[0m\u001b[0;34m\u001b[0m\u001b[0m\n\u001b[0m\u001b[1;32m    224\u001b[0m \u001b[0;34m\u001b[0m\u001b[0m\n",
            "\u001b[0;32m/usr/lib/python3.6/urllib/request.py\u001b[0m in \u001b[0;36mopen\u001b[0;34m(self, fullurl, data, timeout)\u001b[0m\n\u001b[1;32m    531\u001b[0m             \u001b[0mmeth\u001b[0m \u001b[0;34m=\u001b[0m \u001b[0mgetattr\u001b[0m\u001b[0;34m(\u001b[0m\u001b[0mprocessor\u001b[0m\u001b[0;34m,\u001b[0m \u001b[0mmeth_name\u001b[0m\u001b[0;34m)\u001b[0m\u001b[0;34m\u001b[0m\u001b[0;34m\u001b[0m\u001b[0m\n\u001b[0;32m--> 532\u001b[0;31m             \u001b[0mresponse\u001b[0m \u001b[0;34m=\u001b[0m \u001b[0mmeth\u001b[0m\u001b[0;34m(\u001b[0m\u001b[0mreq\u001b[0m\u001b[0;34m,\u001b[0m \u001b[0mresponse\u001b[0m\u001b[0;34m)\u001b[0m\u001b[0;34m\u001b[0m\u001b[0;34m\u001b[0m\u001b[0m\n\u001b[0m\u001b[1;32m    533\u001b[0m \u001b[0;34m\u001b[0m\u001b[0m\n",
            "\u001b[0;32m/usr/lib/python3.6/urllib/request.py\u001b[0m in \u001b[0;36mhttp_response\u001b[0;34m(self, request, response)\u001b[0m\n\u001b[1;32m    641\u001b[0m             response = self.parent.error(\n\u001b[0;32m--> 642\u001b[0;31m                 'http', request, response, code, msg, hdrs)\n\u001b[0m\u001b[1;32m    643\u001b[0m \u001b[0;34m\u001b[0m\u001b[0m\n",
            "\u001b[0;32m/usr/lib/python3.6/urllib/request.py\u001b[0m in \u001b[0;36merror\u001b[0;34m(self, proto, *args)\u001b[0m\n\u001b[1;32m    569\u001b[0m             \u001b[0margs\u001b[0m \u001b[0;34m=\u001b[0m \u001b[0;34m(\u001b[0m\u001b[0mdict\u001b[0m\u001b[0;34m,\u001b[0m \u001b[0;34m'default'\u001b[0m\u001b[0;34m,\u001b[0m \u001b[0;34m'http_error_default'\u001b[0m\u001b[0;34m)\u001b[0m \u001b[0;34m+\u001b[0m \u001b[0morig_args\u001b[0m\u001b[0;34m\u001b[0m\u001b[0;34m\u001b[0m\u001b[0m\n\u001b[0;32m--> 570\u001b[0;31m             \u001b[0;32mreturn\u001b[0m \u001b[0mself\u001b[0m\u001b[0;34m.\u001b[0m\u001b[0m_call_chain\u001b[0m\u001b[0;34m(\u001b[0m\u001b[0;34m*\u001b[0m\u001b[0margs\u001b[0m\u001b[0;34m)\u001b[0m\u001b[0;34m\u001b[0m\u001b[0;34m\u001b[0m\u001b[0m\n\u001b[0m\u001b[1;32m    571\u001b[0m \u001b[0;34m\u001b[0m\u001b[0m\n",
            "\u001b[0;32m/usr/lib/python3.6/urllib/request.py\u001b[0m in \u001b[0;36m_call_chain\u001b[0;34m(self, chain, kind, meth_name, *args)\u001b[0m\n\u001b[1;32m    503\u001b[0m             \u001b[0mfunc\u001b[0m \u001b[0;34m=\u001b[0m \u001b[0mgetattr\u001b[0m\u001b[0;34m(\u001b[0m\u001b[0mhandler\u001b[0m\u001b[0;34m,\u001b[0m \u001b[0mmeth_name\u001b[0m\u001b[0;34m)\u001b[0m\u001b[0;34m\u001b[0m\u001b[0;34m\u001b[0m\u001b[0m\n\u001b[0;32m--> 504\u001b[0;31m             \u001b[0mresult\u001b[0m \u001b[0;34m=\u001b[0m \u001b[0mfunc\u001b[0m\u001b[0;34m(\u001b[0m\u001b[0;34m*\u001b[0m\u001b[0margs\u001b[0m\u001b[0;34m)\u001b[0m\u001b[0;34m\u001b[0m\u001b[0;34m\u001b[0m\u001b[0m\n\u001b[0m\u001b[1;32m    505\u001b[0m             \u001b[0;32mif\u001b[0m \u001b[0mresult\u001b[0m \u001b[0;32mis\u001b[0m \u001b[0;32mnot\u001b[0m \u001b[0;32mNone\u001b[0m\u001b[0;34m:\u001b[0m\u001b[0;34m\u001b[0m\u001b[0;34m\u001b[0m\u001b[0m\n",
            "\u001b[0;32m/usr/lib/python3.6/urllib/request.py\u001b[0m in \u001b[0;36mhttp_error_default\u001b[0;34m(self, req, fp, code, msg, hdrs)\u001b[0m\n\u001b[1;32m    649\u001b[0m     \u001b[0;32mdef\u001b[0m \u001b[0mhttp_error_default\u001b[0m\u001b[0;34m(\u001b[0m\u001b[0mself\u001b[0m\u001b[0;34m,\u001b[0m \u001b[0mreq\u001b[0m\u001b[0;34m,\u001b[0m \u001b[0mfp\u001b[0m\u001b[0;34m,\u001b[0m \u001b[0mcode\u001b[0m\u001b[0;34m,\u001b[0m \u001b[0mmsg\u001b[0m\u001b[0;34m,\u001b[0m \u001b[0mhdrs\u001b[0m\u001b[0;34m)\u001b[0m\u001b[0;34m:\u001b[0m\u001b[0;34m\u001b[0m\u001b[0;34m\u001b[0m\u001b[0m\n\u001b[0;32m--> 650\u001b[0;31m         \u001b[0;32mraise\u001b[0m \u001b[0mHTTPError\u001b[0m\u001b[0;34m(\u001b[0m\u001b[0mreq\u001b[0m\u001b[0;34m.\u001b[0m\u001b[0mfull_url\u001b[0m\u001b[0;34m,\u001b[0m \u001b[0mcode\u001b[0m\u001b[0;34m,\u001b[0m \u001b[0mmsg\u001b[0m\u001b[0;34m,\u001b[0m \u001b[0mhdrs\u001b[0m\u001b[0;34m,\u001b[0m \u001b[0mfp\u001b[0m\u001b[0;34m)\u001b[0m\u001b[0;34m\u001b[0m\u001b[0;34m\u001b[0m\u001b[0m\n\u001b[0m\u001b[1;32m    651\u001b[0m \u001b[0;34m\u001b[0m\u001b[0m\n",
            "\u001b[0;31mHTTPError\u001b[0m: HTTP Error 502: Bad Gateway",
            "\nDuring handling of the above exception, another exception occurred:\n",
            "\u001b[0;31mPyngrokNgrokHTTPError\u001b[0m                     Traceback (most recent call last)",
            "\u001b[0;32m<ipython-input-6-abb7e689450f>\u001b[0m in \u001b[0;36m<module>\u001b[0;34m()\u001b[0m\n\u001b[1;32m     12\u001b[0m \u001b[0mget_ipython\u001b[0m\u001b[0;34m(\u001b[0m\u001b[0;34m)\u001b[0m\u001b[0;34m.\u001b[0m\u001b[0msystem\u001b[0m\u001b[0;34m(\u001b[0m\u001b[0;34m'pip install pyngrok -q'\u001b[0m\u001b[0;34m)\u001b[0m\u001b[0;34m\u001b[0m\u001b[0;34m\u001b[0m\u001b[0m\n\u001b[1;32m     13\u001b[0m \u001b[0;32mfrom\u001b[0m \u001b[0mpyngrok\u001b[0m \u001b[0;32mimport\u001b[0m \u001b[0mngrok\u001b[0m\u001b[0;34m\u001b[0m\u001b[0;34m\u001b[0m\u001b[0m\n\u001b[0;32m---> 14\u001b[0;31m \u001b[0mprint\u001b[0m\u001b[0;34m(\u001b[0m\u001b[0mngrok\u001b[0m\u001b[0;34m.\u001b[0m\u001b[0mconnect\u001b[0m\u001b[0;34m(\u001b[0m\u001b[0;36m8888\u001b[0m\u001b[0;34m)\u001b[0m\u001b[0;34m)\u001b[0m\u001b[0;34m\u001b[0m\u001b[0;34m\u001b[0m\u001b[0m\n\u001b[0m",
            "\u001b[0;32m/usr/local/lib/python3.6/dist-packages/pyngrok/ngrok.py\u001b[0m in \u001b[0;36mconnect\u001b[0;34m(port, proto, name, options, pyngrok_config)\u001b[0m\n\u001b[1;32m    182\u001b[0m \u001b[0;34m\u001b[0m\u001b[0m\n\u001b[1;32m    183\u001b[0m     tunnel = NgrokTunnel(api_request(\"{}/api/{}\".format(api_url, \"tunnels\"), method=\"POST\", data=options,\n\u001b[0;32m--> 184\u001b[0;31m                                      timeout=pyngrok_config.request_timeout))\n\u001b[0m\u001b[1;32m    185\u001b[0m \u001b[0;34m\u001b[0m\u001b[0m\n\u001b[1;32m    186\u001b[0m     \u001b[0;32mif\u001b[0m \u001b[0mproto\u001b[0m \u001b[0;34m==\u001b[0m \u001b[0;34m\"http\"\u001b[0m \u001b[0;32mand\u001b[0m \u001b[0;32mnot\u001b[0m \u001b[0moptions\u001b[0m\u001b[0;34m.\u001b[0m\u001b[0mget\u001b[0m\u001b[0;34m(\u001b[0m\u001b[0;34m\"bind_tls\"\u001b[0m\u001b[0;34m,\u001b[0m \u001b[0;32mFalse\u001b[0m\u001b[0;34m)\u001b[0m\u001b[0;34m:\u001b[0m\u001b[0;34m\u001b[0m\u001b[0;34m\u001b[0m\u001b[0m\n",
            "\u001b[0;32m/usr/local/lib/python3.6/dist-packages/pyngrok/ngrok.py\u001b[0m in \u001b[0;36mapi_request\u001b[0;34m(url, method, data, params, timeout)\u001b[0m\n\u001b[1;32m    325\u001b[0m         raise PyngrokNgrokHTTPError(\"ngrok client exception, API returned {}: {}\".format(status_code, response_data),\n\u001b[1;32m    326\u001b[0m                                     \u001b[0me\u001b[0m\u001b[0;34m.\u001b[0m\u001b[0murl\u001b[0m\u001b[0;34m,\u001b[0m\u001b[0;34m\u001b[0m\u001b[0;34m\u001b[0m\u001b[0m\n\u001b[0;32m--> 327\u001b[0;31m                                     status_code, e.msg, e.hdrs, response_data)\n\u001b[0m\u001b[1;32m    328\u001b[0m     \u001b[0;32mexcept\u001b[0m \u001b[0mURLError\u001b[0m \u001b[0;32mas\u001b[0m \u001b[0me\u001b[0m\u001b[0;34m:\u001b[0m\u001b[0;34m\u001b[0m\u001b[0;34m\u001b[0m\u001b[0m\n\u001b[1;32m    329\u001b[0m         \u001b[0;32mraise\u001b[0m \u001b[0mPyngrokNgrokURLError\u001b[0m\u001b[0;34m(\u001b[0m\u001b[0;34m\"ngrok client exception, URLError: {}\"\u001b[0m\u001b[0;34m.\u001b[0m\u001b[0mformat\u001b[0m\u001b[0;34m(\u001b[0m\u001b[0me\u001b[0m\u001b[0;34m.\u001b[0m\u001b[0mreason\u001b[0m\u001b[0;34m)\u001b[0m\u001b[0;34m,\u001b[0m \u001b[0me\u001b[0m\u001b[0;34m.\u001b[0m\u001b[0mreason\u001b[0m\u001b[0;34m)\u001b[0m\u001b[0;34m\u001b[0m\u001b[0;34m\u001b[0m\u001b[0m\n",
            "\u001b[0;31mPyngrokNgrokHTTPError\u001b[0m: ngrok client exception, API returned 502: {\"error_code\":103,\"status_code\":502,\"msg\":\"failed to start tunnel\",\"details\":{\"err\":\"Your account may not run more than 2 tunnels over a single ngrok client session.\\nThe tunnels already running on this session are:\\n[https://8005cc85d87f.ngrok.io http://8005cc85d87f.ngrok.io]\\n\\r\\n\\r\\nERR_NGROK_324\\r\\n\"}}\n"
          ]
        }
      ]
    },
    {
      "cell_type": "code",
      "metadata": {
        "id": "U5kkLAmPS8N8",
        "colab_type": "code",
        "colab": {
          "base_uri": "https://localhost:8080/",
          "height": 1000
        },
        "outputId": "75ffbff7-91db-43d2-c512-39a07c7d6f5a"
      },
      "source": [
        "!pip install PyDrive\n",
        "!pip install gplearn\n",
        "!pip install git+https://github.com/pySTEPS/pysteps\n",
        "!pip install Pyvolution\n",
        "!pip install decision-tree-id3\n",
        "!pip install pyshgp\n",
        "!pip install deap\n",
        "import pandas as pd \n",
        "import numpy as np \n",
        "from tqdm import tqdm\n",
        "import math\n",
        "import gc\n",
        "from pydrive.auth import GoogleAuth\n",
        "from pydrive.drive import GoogleDrive\n",
        "from google.colab import auth\n",
        "from oauth2client.client import GoogleCredentials\n",
        "\n",
        "%pylab inline\n",
        "from gplearn.genetic import SymbolicRegressor\n",
        "from gplearn.genetic import SymbolicClassifier\n",
        "from sklearn.ensemble import RandomForestRegressor\n",
        "from sklearn.tree import DecisionTreeRegressor\n",
        "from sklearn.utils.random import check_random_state\n",
        "from mpl_toolkits.mplot3d import Axes3D\n",
        "import matplotlib.pyplot as plt\n",
        "import numpy as np\n",
        "import graphviz\n",
        "from sklearn.datasets import load_breast_cancer\n",
        "from id3 import Id3Estimator\n",
        "from id3 import export_graphviz\n",
        "from sklearn.model_selection import train_test_split\n",
        "\n",
        "#from pyshgp.push.instruction_set import InstructionSet\n",
        "\n",
        "#from pyshgp.gp.estimators import PushEstimator\n",
        "#from pyshgp.gp.genome import GeneSpawner"
      ],
      "execution_count": 1,
      "outputs": [
        {
          "output_type": "stream",
          "text": [
            "Requirement already satisfied: PyDrive in /usr/local/lib/python3.6/dist-packages (1.3.1)\n",
            "Requirement already satisfied: google-api-python-client>=1.2 in /usr/local/lib/python3.6/dist-packages (from PyDrive) (1.7.12)\n",
            "Requirement already satisfied: PyYAML>=3.0 in /usr/local/lib/python3.6/dist-packages (from PyDrive) (3.13)\n",
            "Requirement already satisfied: oauth2client>=4.0.0 in /usr/local/lib/python3.6/dist-packages (from PyDrive) (4.1.3)\n",
            "Requirement already satisfied: six<2dev,>=1.6.1 in /usr/local/lib/python3.6/dist-packages (from google-api-python-client>=1.2->PyDrive) (1.15.0)\n",
            "Requirement already satisfied: google-auth-httplib2>=0.0.3 in /usr/local/lib/python3.6/dist-packages (from google-api-python-client>=1.2->PyDrive) (0.0.4)\n",
            "Requirement already satisfied: httplib2<1dev,>=0.17.0 in /usr/local/lib/python3.6/dist-packages (from google-api-python-client>=1.2->PyDrive) (0.17.4)\n",
            "Requirement already satisfied: google-auth>=1.4.1 in /usr/local/lib/python3.6/dist-packages (from google-api-python-client>=1.2->PyDrive) (1.17.2)\n",
            "Requirement already satisfied: uritemplate<4dev,>=3.0.0 in /usr/local/lib/python3.6/dist-packages (from google-api-python-client>=1.2->PyDrive) (3.0.1)\n",
            "Requirement already satisfied: pyasn1>=0.1.7 in /usr/local/lib/python3.6/dist-packages (from oauth2client>=4.0.0->PyDrive) (0.4.8)\n",
            "Requirement already satisfied: pyasn1-modules>=0.0.5 in /usr/local/lib/python3.6/dist-packages (from oauth2client>=4.0.0->PyDrive) (0.2.8)\n",
            "Requirement already satisfied: rsa>=3.1.4 in /usr/local/lib/python3.6/dist-packages (from oauth2client>=4.0.0->PyDrive) (4.6)\n",
            "Requirement already satisfied: setuptools>=40.3.0 in /usr/local/lib/python3.6/dist-packages (from google-auth>=1.4.1->google-api-python-client>=1.2->PyDrive) (50.3.0)\n",
            "Requirement already satisfied: cachetools<5.0,>=2.0.0 in /usr/local/lib/python3.6/dist-packages (from google-auth>=1.4.1->google-api-python-client>=1.2->PyDrive) (4.1.1)\n",
            "Collecting gplearn\n",
            "\u001b[?25l  Downloading https://files.pythonhosted.org/packages/43/6b/ee38cd74b32ad5056603aabbef622f9691f19d0869574dfc610034f18662/gplearn-0.4.1-py3-none-any.whl (41kB)\n",
            "\u001b[K     |████████████████████████████████| 51kB 2.2MB/s \n",
            "\u001b[?25hRequirement already satisfied: joblib>=0.13.0 in /usr/local/lib/python3.6/dist-packages (from gplearn) (0.16.0)\n",
            "Requirement already satisfied: scikit-learn>=0.20.0 in /usr/local/lib/python3.6/dist-packages (from gplearn) (0.22.2.post1)\n",
            "Requirement already satisfied: scipy>=0.17.0 in /usr/local/lib/python3.6/dist-packages (from scikit-learn>=0.20.0->gplearn) (1.4.1)\n",
            "Requirement already satisfied: numpy>=1.11.0 in /usr/local/lib/python3.6/dist-packages (from scikit-learn>=0.20.0->gplearn) (1.18.5)\n",
            "Installing collected packages: gplearn\n",
            "Successfully installed gplearn-0.4.1\n",
            "Collecting git+https://github.com/pySTEPS/pysteps\n",
            "  Cloning https://github.com/pySTEPS/pysteps to /tmp/pip-req-build-uj6gyt4a\n",
            "  Running command git clone -q https://github.com/pySTEPS/pysteps /tmp/pip-req-build-uj6gyt4a\n",
            "  Installing build dependencies ... \u001b[?25l\u001b[?25hdone\n",
            "  Getting requirements to build wheel ... \u001b[?25l\u001b[?25hdone\n",
            "  Installing backend dependencies ... \u001b[?25l\u001b[?25hdone\n",
            "    Preparing wheel metadata ... \u001b[?25l\u001b[?25hdone\n",
            "Requirement already satisfied: numpy in /usr/local/lib/python3.6/dist-packages (from pysteps==1.3.2) (1.18.5)\n",
            "Processing /root/.cache/pip/wheels/64/f4/de/9667d84f759289edf5442220997c6d4334637a6bb2a7b90f73/jsmin-2.2.2-cp36-none-any.whl\n",
            "Requirement already satisfied: matplotlib in /usr/local/lib/python3.6/dist-packages (from pysteps==1.3.2) (3.2.2)\n",
            "Requirement already satisfied: jsonschema in /usr/local/lib/python3.6/dist-packages (from pysteps==1.3.2) (2.6.0)\n",
            "Requirement already satisfied: scipy in /usr/local/lib/python3.6/dist-packages (from pysteps==1.3.2) (1.4.1)\n",
            "Requirement already satisfied: pyparsing!=2.0.4,!=2.1.2,!=2.1.6,>=2.0.1 in /usr/local/lib/python3.6/dist-packages (from matplotlib->pysteps==1.3.2) (2.4.7)\n",
            "Requirement already satisfied: python-dateutil>=2.1 in /usr/local/lib/python3.6/dist-packages (from matplotlib->pysteps==1.3.2) (2.8.1)\n",
            "Requirement already satisfied: cycler>=0.10 in /usr/local/lib/python3.6/dist-packages (from matplotlib->pysteps==1.3.2) (0.10.0)\n",
            "Requirement already satisfied: kiwisolver>=1.0.1 in /usr/local/lib/python3.6/dist-packages (from matplotlib->pysteps==1.3.2) (1.2.0)\n",
            "Requirement already satisfied: six>=1.5 in /usr/local/lib/python3.6/dist-packages (from python-dateutil>=2.1->matplotlib->pysteps==1.3.2) (1.15.0)\n",
            "Building wheels for collected packages: pysteps\n",
            "  Building wheel for pysteps (PEP 517) ... \u001b[?25l\u001b[?25hdone\n",
            "  Created wheel for pysteps: filename=pysteps-1.3.2-cp36-cp36m-linux_x86_64.whl size=965718 sha256=99e5bb06ee7a23a9091e10621d115fb0883afddf0d33311d75f15ad3a17cee27\n",
            "  Stored in directory: /tmp/pip-ephem-wheel-cache-n5l5qx1r/wheels/22/e9/c0/c19c043836ff5fbe1697cb0a0a4d328b8a6d85cf552cb50f5d\n",
            "Successfully built pysteps\n",
            "Installing collected packages: jsmin, pysteps\n",
            "Successfully installed jsmin-2.2.2 pysteps-1.3.2\n",
            "Collecting Pyvolution\n",
            "  Downloading https://files.pythonhosted.org/packages/9b/b2/0da6f3684c41c9032880b770913601431cf7e0f644f570ff071b7caef7fd/Pyvolution-1.1.tar.gz\n",
            "Building wheels for collected packages: Pyvolution\n",
            "  Building wheel for Pyvolution (setup.py) ... \u001b[?25l\u001b[?25hdone\n",
            "  Created wheel for Pyvolution: filename=Pyvolution-1.1-cp36-none-any.whl size=15360 sha256=04e6760b724be2e2e49854141c08b2397a1a394115b99fdb047404678361075e\n",
            "  Stored in directory: /root/.cache/pip/wheels/09/ec/9b/ebf2c3b3447b8934eed8931fb752382b67f2dd277cb39292d5\n",
            "Successfully built Pyvolution\n",
            "Installing collected packages: Pyvolution\n",
            "Successfully installed Pyvolution-1.1\n",
            "Collecting decision-tree-id3\n",
            "  Downloading https://files.pythonhosted.org/packages/53/60/9b51eb3b5096afa1fce2718f56c99f8e183162dae114c56592112ab54329/decision-tree-id3-0.1.2.tar.gz\n",
            "Collecting nose>=1.1.2\n",
            "\u001b[?25l  Downloading https://files.pythonhosted.org/packages/15/d8/dd071918c040f50fa1cf80da16423af51ff8ce4a0f2399b7bf8de45ac3d9/nose-1.3.7-py3-none-any.whl (154kB)\n",
            "\u001b[K     |████████████████████████████████| 163kB 3.9MB/s \n",
            "\u001b[?25hRequirement already satisfied: scikit-learn>=0.17 in /usr/local/lib/python3.6/dist-packages (from decision-tree-id3) (0.22.2.post1)\n",
            "Requirement already satisfied: numpy>=1.6.1 in /usr/local/lib/python3.6/dist-packages (from decision-tree-id3) (1.18.5)\n",
            "Requirement already satisfied: scipy>=0.17.0 in /usr/local/lib/python3.6/dist-packages (from scikit-learn>=0.17->decision-tree-id3) (1.4.1)\n",
            "Requirement already satisfied: joblib>=0.11 in /usr/local/lib/python3.6/dist-packages (from scikit-learn>=0.17->decision-tree-id3) (0.16.0)\n",
            "Building wheels for collected packages: decision-tree-id3\n",
            "  Building wheel for decision-tree-id3 (setup.py) ... \u001b[?25l\u001b[?25hdone\n",
            "  Created wheel for decision-tree-id3: filename=decision_tree_id3-0.1.2-cp36-none-any.whl size=15963 sha256=b98883d073c6347e282c7b9d244afdc2ac3ffb85730bb17da5fc545bcc6f293e\n",
            "  Stored in directory: /root/.cache/pip/wheels/2d/d6/f2/96cb2cc307503a88b1235aef5c794990e460bd044f382070f9\n",
            "Successfully built decision-tree-id3\n",
            "Installing collected packages: nose, decision-tree-id3\n",
            "Successfully installed decision-tree-id3-0.1.2 nose-1.3.7\n",
            "Collecting pyshgp\n",
            "\u001b[?25l  Downloading https://files.pythonhosted.org/packages/39/20/2eb9168bed3a02395a3ea7fe76c3bef74d15ddad26836d31999c943c064a/pyshgp-0.1.8-py3-none-any.whl (71kB)\n",
            "\u001b[K     |████████████████████████████████| 71kB 2.1MB/s \n",
            "\u001b[?25hRequirement already satisfied: scipy>=0.18.0 in /usr/local/lib/python3.6/dist-packages (from pyshgp) (1.4.1)\n",
            "Requirement already satisfied: pandas>=0.23.4 in /usr/local/lib/python3.6/dist-packages (from pyshgp) (1.0.5)\n",
            "Requirement already satisfied: numpy>=1.12.0 in /usr/local/lib/python3.6/dist-packages (from pyshgp) (1.18.5)\n",
            "Requirement already satisfied: pyrsistent>=0.16.0 in /usr/local/lib/python3.6/dist-packages (from pyshgp) (0.17.3)\n",
            "Requirement already satisfied: python-dateutil>=2.6.1 in /usr/local/lib/python3.6/dist-packages (from pandas>=0.23.4->pyshgp) (2.8.1)\n",
            "Requirement already satisfied: pytz>=2017.2 in /usr/local/lib/python3.6/dist-packages (from pandas>=0.23.4->pyshgp) (2018.9)\n",
            "Requirement already satisfied: six>=1.5 in /usr/local/lib/python3.6/dist-packages (from python-dateutil>=2.6.1->pandas>=0.23.4->pyshgp) (1.15.0)\n",
            "Installing collected packages: pyshgp\n",
            "Successfully installed pyshgp-0.1.8\n",
            "Collecting deap\n",
            "\u001b[?25l  Downloading https://files.pythonhosted.org/packages/0a/eb/2bd0a32e3ce757fb26264765abbaedd6d4d3640d90219a513aeabd08ee2b/deap-1.3.1-cp36-cp36m-manylinux2010_x86_64.whl (157kB)\n",
            "\u001b[K     |████████████████████████████████| 163kB 2.8MB/s \n",
            "\u001b[?25hRequirement already satisfied: numpy in /usr/local/lib/python3.6/dist-packages (from deap) (1.18.5)\n",
            "Installing collected packages: deap\n",
            "Successfully installed deap-1.3.1\n",
            "Populating the interactive namespace from numpy and matplotlib\n"
          ],
          "name": "stdout"
        },
        {
          "output_type": "stream",
          "text": [
            "/usr/local/lib/python3.6/dist-packages/sklearn/externals/six.py:31: FutureWarning: The module is deprecated in version 0.21 and will be removed in version 0.23 since we've dropped support for Python 2.7. Please rely on the official version of six (https://pypi.org/project/six/).\n",
            "  \"(https://pypi.org/project/six/).\", FutureWarning)\n"
          ],
          "name": "stderr"
        }
      ]
    },
    {
      "cell_type": "code",
      "metadata": {
        "id": "3x9sGtIfUHJj",
        "colab_type": "code",
        "colab": {}
      },
      "source": [
        "auth.authenticate_user()\n",
        "gauth = GoogleAuth()\n",
        "gauth.credentials = GoogleCredentials.get_application_default()\n",
        "drive = GoogleDrive(gauth)\n",
        "drive.CreateFile({'id':\"1NapWxZHdXFJ3wdNAHjiUXO803fjw-lF3\"}).GetContentFile(\"post-operative.csv\")\n",
        "input_df = pd.read_csv(\"post-operative.csv\")\n"
      ],
      "execution_count": 57,
      "outputs": []
    },
    {
      "cell_type": "code",
      "metadata": {
        "id": "rauhoqG9mWhu",
        "colab_type": "code",
        "colab": {
          "base_uri": "https://localhost:8080/",
          "height": 52
        },
        "outputId": "8a080dba-c7d0-408c-f4fa-f05a3051e122"
      },
      "source": [
        "# encode the data\n",
        "from sklearn import preprocessing\n",
        "l_encoder = preprocessing.LabelEncoder()\n",
        "oh_encoder = preprocessing.OneHotEncoder(sparse=False)\n",
        "or_encoder = preprocessing.OrdinalEncoder( categories= [array(['low', 'mid', 'high'], dtype=object), array(['low', 'mid', 'high',], dtype=object), \\\n",
        "                                                        array(['poor', 'fair', 'good','excellent', ], dtype=object), \\\n",
        "                                                        array(['low', 'mid','high',], dtype=object), array(['unstable','stable' ], dtype=object), \\\n",
        "                                                        array([ 'unstable', 'mod-stable','stable'], dtype=object), array(['unstable', 'mod-stable', 'stable' ], dtype=object), \\\n",
        "                                                        array(['?', '1', '2','3', '4', '5', '6', '7', '8', '9','10','11','12', '13', '14', '15','16', '17', '18', '19','20'], dtype=object)])\n",
        "\n",
        "train_df, test_df = train_test_split(input_df, test_size=0.2)\n",
        "\n",
        "y_train = train_df[\"ADM-DECS\"]\n",
        "X_train = train_df.drop(columns=[\"ADM-DECS\"])\n",
        "\n",
        "feat_names = X_train.columns\n",
        "\n",
        "label_train = l_encoder.fit_transform(y_train)\n",
        "# print(y_train)\n",
        "\n",
        "ordinal_train = or_encoder.fit_transform(X_train)\n",
        "onehot_train = oh_encoder.fit_transform(X_train)\n",
        "print(ordinal_train.shape)\n",
        "print(label_train.size)\n"
      ],
      "execution_count": 109,
      "outputs": [
        {
          "output_type": "stream",
          "text": [
            "(70, 8)\n",
            "70\n"
          ],
          "name": "stdout"
        }
      ]
    },
    {
      "cell_type": "code",
      "metadata": {
        "id": "aAco1VMQRU0p",
        "colab_type": "code",
        "colab": {
          "base_uri": "https://localhost:8080/",
          "height": 123
        },
        "outputId": "623be8e5-6b69-408b-b570-67e93bdc16bc"
      },
      "source": [
        "print(label_train)\n",
        "print(y_train.values)"
      ],
      "execution_count": 100,
      "outputs": [
        {
          "output_type": "stream",
          "text": [
            "[0 1 0 0 1 0 0 0 0 0 0 1 0 1 0 0 0 1 0 0 0 1 1 0 0 0 1 1 0 0 1 0 0 0 0 1 0\n",
            " 0 0 0 0 1 0 0 1 0 0 1 0 1 1 0 1 0 0 0 0 0 1 0 0 0 1 0 1 0 0 0 1 0]\n",
            "['A' 'S' 'A' 'A' 'S' 'A' 'A' 'A' 'A' 'A' 'A' 'S' 'A' 'S' 'A' 'A' 'A' 'S'\n",
            " 'A' 'A' 'A' 'S' 'S' 'A' 'A' 'A' 'S' 'S' 'A' 'A' 'S' 'A' 'A' 'A' 'A' 'S'\n",
            " 'A' 'A' 'A' 'A' 'A' 'S' 'A' 'A' 'S' 'A' 'A' 'S' 'A' 'S' 'S' 'A' 'S' 'A'\n",
            " 'A' 'A' 'A' 'A' 'S' 'A' 'A' 'A' 'S' 'A' 'S' 'A' 'A' 'A' 'S' 'A']\n"
          ],
          "name": "stdout"
        }
      ]
    },
    {
      "cell_type": "code",
      "metadata": {
        "id": "82xC6K9598h5",
        "colab_type": "code",
        "colab": {
          "base_uri": "https://localhost:8080/",
          "height": 827
        },
        "outputId": "92e27741-db68-41f0-e260-4d2370c3fbfe"
      },
      "source": [
        "# Use a symbolic classifier>\n",
        "\n",
        "est = SymbolicClassifier(population_size=400, parsimony_coefficient=.01,\n",
        "                         feature_names=feat_names,\n",
        "                         random_state=99,\n",
        "                         generations=30, tournament_size=3, stopping_criteria=0,\n",
        "                           p_crossover=0.8, p_subtree_mutation=0.2,\n",
        "                           p_hoist_mutation=0.0, p_point_mutation=0,\n",
        "                           const_range=(-1,1), init_method=\"half and half\",\n",
        "                           max_samples=0.9, verbose=1, init_depth=(2,6),\n",
        "                           )\n",
        "est.fit(ordinal_train, label_train)"
      ],
      "execution_count": 110,
      "outputs": [
        {
          "output_type": "stream",
          "text": [
            "    |   Population Average    |             Best Individual              |\n",
            "---- ------------------------- ------------------------------------------ ----------\n",
            " Gen   Length          Fitness   Length          Fitness      OOB Fitness  Time Left\n",
            "   0    27.39          4.66424        7         0.561563         0.821569     13.11s\n",
            "   1    14.78          1.89594       13         0.549446         0.616887     10.95s\n",
            "   2     8.52          1.43394        1         0.551413          1.02675     10.05s\n",
            "   3     6.88          1.54645        9         0.551738          1.25169      9.51s\n",
            "   4     6.52           1.4217        5         0.537209          1.29298      9.31s\n",
            "   5     5.86          1.34195        5         0.526931          0.97355      8.92s\n",
            "   6     4.94          1.14211        3         0.543988         0.940098      8.50s\n",
            "   7     4.27          1.14662        3          0.50777          1.40404      8.08s\n",
            "   8     3.73          1.07949        3         0.506573          1.27683      8.06s\n",
            "   9     3.49          1.01598        3         0.530926          1.19563      7.14s\n",
            "  10     2.90         0.976784        5         0.543085          1.08299      6.59s\n",
            "  11     2.98          1.08093        3         0.498216          1.35205      6.59s\n",
            "  12     2.48           1.2091        3          0.53563          1.01532      6.15s\n",
            "  13     2.58          1.13058        3         0.539121         0.983905      5.59s\n",
            "  14     2.32         0.936958        1         0.552974          1.00739      5.45s\n",
            "  15     1.86         0.975082        7          0.55202          1.26529      4.76s\n",
            "  16     2.27          1.08493        3         0.545365         0.927704      4.61s\n",
            "  17     2.21          1.06481        3         0.516336          1.18897      4.20s\n",
            "  18     2.06          0.91878        3         0.536012         0.904814      3.89s\n",
            "  19     2.12          1.23218        3          0.53523          1.01892      3.44s\n",
            "  20     1.90           1.0399        3          0.50589          1.17591      3.24s\n",
            "  21     1.95           1.3134        1         0.537827          1.14371      2.90s\n",
            "  22     2.06          1.05401        1         0.537827          1.14371      2.49s\n",
            "  23     1.84          0.86519        3         0.536413         0.901205      2.12s\n",
            "  24     1.85           1.0937        1         0.552974          1.00739      1.82s\n",
            "  25     1.88            1.007        3         0.519503          1.05244      1.40s\n",
            "  26     1.97         0.978245        3         0.526831         0.987446      1.04s\n",
            "  27     2.09           1.0763        1         0.537827          1.14371      0.70s\n",
            "  28     2.02         0.983605        3         0.530159         0.957496      0.35s\n",
            "  29     1.94          1.01174        3         0.519688          1.05173      0.00s\n"
          ],
          "name": "stdout"
        },
        {
          "output_type": "execute_result",
          "data": {
            "text/plain": [
              "SymbolicClassifier(const_range=(-1, 1),\n",
              "                   feature_names=Index(['L-CORE', 'L-SURF', 'L-O2', 'L-BP', 'SURF-STBL', 'CORE-STBL', 'BP-STBL',\n",
              "       'COMFORT'],\n",
              "      dtype='object'),\n",
              "                   function_set=('add', 'sub', 'mul', 'div'), generations=30,\n",
              "                   init_depth=(2, 6), init_method='half and half',\n",
              "                   low_memory=False, max_samples=0.9, metric='log loss',\n",
              "                   n_jobs=1, p_crossover=0.8, p_hoist_mutation=0.0,\n",
              "                   p_point_mutation=0, p_point_replace=0.05,\n",
              "                   p_subtree_mutation=0.2, parsimony_coefficient=0.01,\n",
              "                   population_size=400, random_state=99, stopping_criteria=0,\n",
              "                   tournament_size=3, transformer='sigmoid', verbose=1,\n",
              "                   warm_start=False)"
            ]
          },
          "metadata": {
            "tags": []
          },
          "execution_count": 110
        }
      ]
    },
    {
      "cell_type": "code",
      "metadata": {
        "id": "FG8WDitBOOkg",
        "colab_type": "code",
        "colab": {}
      },
      "source": [
        "y_test = test_df[\"ADM-DECS\"]\n",
        "X_test = test_df.drop(columns=[\"ADM-DECS\"])\n",
        "\n",
        "label_test = l_encoder.fit_transform(y_test)\n",
        "ordinal_test = or_encoder.fit_transform(X_test)"
      ],
      "execution_count": 111,
      "outputs": []
    },
    {
      "cell_type": "code",
      "metadata": {
        "id": "ZpODEoocMFIv",
        "colab_type": "code",
        "colab": {
          "base_uri": "https://localhost:8080/",
          "height": 35
        },
        "outputId": "3bafc4b3-0f96-4c94-9663-986861d2becd"
      },
      "source": [
        "est.score(ordinal_test, label_test)"
      ],
      "execution_count": 112,
      "outputs": [
        {
          "output_type": "execute_result",
          "data": {
            "text/plain": [
              "0.7777777777777778"
            ]
          },
          "metadata": {
            "tags": []
          },
          "execution_count": 112
        }
      ]
    }
  ]
}